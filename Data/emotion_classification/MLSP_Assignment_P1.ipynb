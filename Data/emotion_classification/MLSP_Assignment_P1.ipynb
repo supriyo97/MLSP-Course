{
  "cells": [
    {
      "cell_type": "code",
      "execution_count": 2,
      "metadata": {
        "id": "D5ywzjS6DTEt"
      },
      "outputs": [],
      "source": [
        "import os\n",
        "import matplotlib.pyplot as plot\n",
        "# import cv2\n",
        "import numpy as np\n",
        "from sklearn.preprocessing import StandardScaler\n",
        "from sklearn.decomposition import PCA\n",
        "from sklearn.discriminant_analysis import LinearDiscriminantAnalysis\n",
        "# from sklearn.metrics import confusion_matrix as CM\n",
        "# from random import randint\n",
        "# from IPython.display import SVG\n",
        "import matplotlib.gridspec as gridspec\n",
        "import matplotlib.image as img\n",
        "import matplotlib.pyplot as plt\n",
        "import re\n",
        "from pathlib import Path\n",
        "import pandas as pd\n",
        "import seaborn as sn"
      ]
    },
    {
      "cell_type": "markdown",
      "metadata": {
        "id": "t-8bl_uCcFBk"
      },
      "source": [
        "## PROBLEM 1 - PCA & LDA"
      ]
    },
    {
      "cell_type": "markdown",
      "metadata": {
        "id": "6ztc0szbECrw"
      },
      "source": [
        "### DATA generation"
      ]
    },
    {
      "cell_type": "code",
      "execution_count": null,
      "metadata": {
        "id": "syBd7d_2EZ0A"
      },
      "outputs": [],
      "source": [
        "## funtion for convert the image files into data\n",
        "def img2df(dir):\n",
        "    data = pd.DataFrame()\n",
        "    for each_img in os.listdir(dir):\n",
        "        i = dir + \"/\" + each_img\n",
        "        img2mat = img.imread(i) #image to matrix form\n",
        "        imgVec = img2mat.reshape(10201,1) #reshape to a vector of size 10201\n",
        "\n",
        "        #create dataframe and load the vector as column of it. also append the labels(happy(1)/sad(0)) of it at the end\n",
        "        df = pd.DataFrame(imgVec)\n",
        "        data = pd.concat([data, df],axis=1, ignore_index=True)\n",
        "    return data"
      ]
    },
    {
      "cell_type": "code",
      "execution_count": null,
      "metadata": {
        "id": "CxCZoXeVEGwC"
      },
      "outputs": [],
      "source": [
        "## funtion for classify the data into happy(1) or sad(0)\n",
        "pattern = re.compile(r'(\\w*).(\\w*)')\n",
        "def emotion_extract(image):\n",
        "    ex = pattern.search(image)\n",
        "    if(ex.group(2) == 'happy'):\n",
        "        return 1\n",
        "    return 0"
      ]
    },
    {
      "cell_type": "code",
      "execution_count": null,
      "metadata": {
        "id": "9_4Z0146Eie5"
      },
      "outputs": [],
      "source": [
        "directory = \"/home/Assignment/MLSP/Data/emotion_classification/train\"  ##give your file location\n",
        "data = img2df(directory)\n",
        "data = data.T\n",
        "\n",
        "##Standarize the data\n",
        "scalar = StandardScaler()\n",
        "scaled_data = pd.DataFrame(scalar.fit_transform(data.to_numpy()))\n",
        "\n",
        "scaled_data"
      ]
    },
    {
      "cell_type": "markdown",
      "metadata": {
        "id": "pgSnK7AgFxwu"
      },
      "source": [
        "##add a column for which it's belongs to class of data wither happy(1) or sad(0)\n"
      ]
    },
    {
      "cell_type": "code",
      "execution_count": null,
      "metadata": {
        "id": "74gYnV3ZFuu-"
      },
      "outputs": [],
      "source": [
        "emotion_list = np.array([])\n",
        "for each_img in os.listdir(directory):\n",
        "    if(emotion_extract(each_img) == 1):\n",
        "        emotion_list = np.append(emotion_list, [1])\n",
        "    else:\n",
        "        emotion_list = np.append(emotion_list, [0])\n",
        "\n",
        "scaled_data[\"10201\"] = emotion_list\n",
        "\n",
        "# sampled_data = final_data.drop(\"10201\", axis=1)"
      ]
    },
    {
      "cell_type": "markdown",
      "metadata": {
        "id": "tFctOKCbE9AZ"
      },
      "source": [
        "## Store the data into a csv file"
      ]
    },
    {
      "cell_type": "code",
      "execution_count": null,
      "metadata": {
        "id": "lUK7r0PCE45b"
      },
      "outputs": [],
      "source": [
        "from pathlib import Path  \n",
        "filepath = Path('./emotion_data.csv')  \n",
        "filepath.parent.mkdir(parents=True, exist_ok=True)  \n",
        "scaled_data.to_csv(filepath, index=False)"
      ]
    },
    {
      "cell_type": "markdown",
      "metadata": {
        "id": "MHj3vIuEfhIz"
      },
      "source": [
        "\n",
        "# Problem 1.a - **PCA from scratch**"
      ]
    },
    {
      "cell_type": "code",
      "execution_count": null,
      "metadata": {
        "id": "3rVAFYmg8wxq"
      },
      "outputs": [],
      "source": [
        "def PCA_scratch(data, n_components):\n",
        "    cov_mat = np.cov(data, rowvar=False)    ## find the convariance matrix\n",
        "    eigenval, eigenvec = np.linalg.eigh(cov_mat)  ## eig() - for square matrix & eigh() - real symm matrix or harmatian matrix\n",
        "\n",
        "    ## Sort the eigenvectors corresponnding sorted eigenvalues\n",
        "    sorted_index = np.argsort(eigenval)[::-1]\n",
        "    sorted_eigenval = eigenval[sorted_index]\n",
        "    sorted_eigenvec = eigenvec[:,sorted_index]\n",
        "        \n",
        "    #Fit transform of original data\n",
        "    Z = sorted_eigenvec[:,0:n_components]\n",
        "        \n",
        "    PC = np.dot(data, Z)\n",
        "        \n",
        "    return PC, sorted_eigenval, sorted_eigenvec"
      ]
    },
    {
      "cell_type": "code",
      "execution_count": null,
      "metadata": {
        "id": "7vIwMLEucDSo"
      },
      "outputs": [],
      "source": [
        "## Read csv file\n",
        "emo_df = pd.read_csv(\"emotion_data.csv\")\n",
        "\n",
        "emotion_X = emo_df.iloc[:,:-1]\n",
        "emotion_Y = emo_df.iloc[:,-1]\n",
        "\n",
        "# ## Convert it to the numpy data\n",
        "emo_data = emotion_X.to_numpy()\n",
        "# type(emotion_Y)"
      ]
    },
    {
      "cell_type": "code",
      "execution_count": null,
      "metadata": {
        "colab": {
          "base_uri": "https://localhost:8080/"
        },
        "id": "G5qw-pbE0RDU",
        "outputId": "bf4ccedb-59cf-4c15-d8f3-2d4f40faa1f8"
      },
      "outputs": [
        {
          "name": "stdout",
          "output_type": "stream",
          "text": [
            "Enter the no of principal component : 2\n"
          ]
        }
      ],
      "source": [
        "nof_pc = int(input(\"Enter the no of principal component : \"))\n",
        "pca, eval, evec = PCA_scratch(emo_data, nof_pc)\n",
        " \n",
        "# pc_df = pd.DataFrame(pca)\n",
        "\n",
        "# #Concat it with Y to create a complete Dataset\n",
        "# pc_df = pd.concat([pc_df , pd.DataFrame(emotion_Y)] , axis = 1)\n",
        "# pc_df.head()"
      ]
    },
    {
      "cell_type": "code",
      "execution_count": null,
      "metadata": {
        "colab": {
          "base_uri": "https://localhost:8080/"
        },
        "id": "XalMCpqjVIET",
        "outputId": "a2e57745-73fd-4ed5-b605-a4b112388d64"
      },
      "outputs": [
        {
          "data": {
            "text/plain": [
              "array([ 3.07105818e+03,  1.50075986e+03,  9.75157482e+02, ...,\n",
              "       -1.91649033e-12, -2.55412576e-12, -3.18211417e-12])"
            ]
          },
          "execution_count": 62,
          "metadata": {},
          "output_type": "execute_result"
        }
      ],
      "source": [
        "eval"
      ]
    },
    {
      "cell_type": "code",
      "execution_count": null,
      "metadata": {
        "colab": {
          "base_uri": "https://localhost:8080/"
        },
        "id": "fisT2tweCrLc",
        "outputId": "b36bec51-436a-41a9-edb0-e96d63d9a2ec"
      },
      "outputs": [
        {
          "data": {
            "text/plain": [
              "array([0.28600189, 0.13976295])"
            ]
          },
          "execution_count": 63,
          "metadata": {},
          "output_type": "execute_result"
        }
      ],
      "source": [
        "## variance ratio count\n",
        "explained_variance = eval[0:nof_pc]\n",
        "total_variance = eval.sum()\n",
        "explained_variance_ratio = explained_variance / total_variance\n",
        "cum_var_explained = np.cumsum(explained_variance_ratio)\n",
        "\n",
        "# cum_var_explained\n",
        "explained_variance_ratio"
      ]
    },
    {
      "cell_type": "markdown",
      "metadata": {
        "id": "Xks5IAZA_fJb"
      },
      "source": [
        "###Plotting the reduced datapoints"
      ]
    },
    {
      "cell_type": "code",
      "execution_count": null,
      "metadata": {
        "colab": {
          "base_uri": "https://localhost:8080/",
          "height": 283
        },
        "id": "PWUxCXGE70Z2",
        "outputId": "f970d84f-8f0c-438b-d6f7-d6d240f53e0b"
      },
      "outputs": [
        {
          "data": {
            "image/png": "[encoded data removed]",
            "text/plain": [
              "<Figure size 432x288 with 2 Axes>"
            ]
          },
          "metadata": {},
          "output_type": "display_data"
        }
      ],
      "source": [
        "x1,x2 = pca[:, 0], pca[:, 1]\n",
        "plt.figure(figsize = (6,4))\n",
        "plt.scatter(\n",
        "    x1, x2, c=emotion_Y, s=50, edgecolor=\"none\", alpha=0.8, cmap=plt.cm.get_cmap(\"viridis\", 2)\n",
        ")\n",
        "\n",
        "plt.xlabel(\"Principal Component 1\")\n",
        "plt.ylabel(\"Principal Component 2\")\n",
        "plt.colorbar()\n",
        "plt.show()"
      ]
    },
    {
      "cell_type": "markdown",
      "metadata": {
        "id": "xkDdT8e_KbJE"
      },
      "source": [
        "# Problem 1.b - **LDA**"
      ]
    },
    {
      "cell_type": "code",
      "execution_count": 3,
      "metadata": {
        "id": "JLpTTJkq-icC",
        "colab": {
          "base_uri": "https://localhost:8080/"
        },
        "outputId": "b64e76b5-f758-41db-a9a0-d3f335a07694"
      },
      "outputs": [
        {
          "output_type": "stream",
          "name": "stdout",
          "text": [
            "Shape of data: (20, 10201)\n",
            "Shape of transformed X: (20, 1)\n"
          ]
        }
      ],
      "source": [
        "class LDA_scratch:\n",
        "    def __init__(self, n_components):\n",
        "        self.n_components = n_components\n",
        "        self.linear_disc = None\n",
        "\n",
        "    def fit(self, X, y):\n",
        "        n_features = X.shape[1]\n",
        "        class_labels = np.unique(y)\n",
        "\n",
        "        mean_overall = np.mean(X, axis=0)         # Overall mean of the data\n",
        "        SW = np.zeros((n_features, n_features))   # Within class scatter matrix\n",
        "        SB = np.zeros((n_features, n_features))   # Between class scatter\n",
        "\n",
        "        for c in class_labels:\n",
        "            X_c = X[y == c]\n",
        "            mean_c = np.mean(X_c, axis=0)\n",
        "            # Calculate SW \n",
        "            SW += (X_c - mean_c).T.dot((X_c - mean_c))\n",
        "            \n",
        "            # Calculate SB\n",
        "            n_c = X_c.shape[0]\n",
        "            mean_diff = (mean_c - mean_overall).reshape(n_features, 1)\n",
        "            SB += n_c * (mean_diff).dot(mean_diff.T)\n",
        "\n",
        "        # Determine (SW)^-1 * SB\n",
        "        A = np.linalg.inv(SW).dot(SB)\n",
        "        # Get eigenvalues and eigenvectors of A\n",
        "        eigen_val, eigen_vec = np.linalg.eig(A)\n",
        "\n",
        "        # sort eigenvalues\n",
        "        eigen_vec = eigen_vec.T\n",
        "        idxs = np.argsort(abs(eigen_val))[::-1]\n",
        "        eigen_val = eigen_val[idxs]\n",
        "        eigen_vec = eigen_vec[idxs]\n",
        "\n",
        "        # store first n eigenvectors\n",
        "        self.linear_disc = eigen_vec[0 : self.n_components]\n",
        "\n",
        "    def transform(self, X):\n",
        "        return np.dot(X, self.linear_disc.T)\n",
        "\n",
        "\n",
        "if __name__ == \"__main__\":\n",
        "    dt = pd.read_csv(\"unscaled_data.csv\")\n",
        "    data = dt.iloc[:,:-1].to_numpy()\n",
        "    classes = dt.iloc[:,-1].to_numpy()\n",
        "\n",
        "    lda = LDA_scratch(1)\n",
        "    lda.fit(data, classes)\n",
        "    transformed_X = lda.transform(data)\n",
        "\n",
        "    print(\"Shape of data:\", data.shape)\n",
        "    print(\"Shape of transformed X:\", transformed_X.shape)\n"
      ]
    },
    {
      "cell_type": "code",
      "source": [
        "x = pd.concat([pd.DataFrame(transformed_X) , pd.DataFrame(classes)] , axis = 1)"
      ],
      "metadata": {
        "id": "KcbsogHDm8Fw"
      },
      "execution_count": 24,
      "outputs": []
    },
    {
      "cell_type": "code",
      "source": [
        "x0 = [x.iloc[i,0] for i in range(len(x)) if x.iloc[i,1] == 0]\n",
        "y0 = [x.iloc[i,1] for i in range(len(x)) if x.iloc[i,1] == 0]\n",
        "\n",
        "x1 = [x.iloc[i,0] for i in range(len(x)) if x.iloc[i,1] == 1]\n",
        "y1 = [x.iloc[i,1] for i in range(len(x)) if x.iloc[i,1] == 1]"
      ],
      "metadata": {
        "id": "vcQRrNopzl_X"
      },
      "execution_count": 62,
      "outputs": []
    },
    {
      "cell_type": "code",
      "source": [
        "plt.scatter(x0, y0, color='red')\n",
        "plt.scatter(x1,y1, color='blue')"
      ],
      "metadata": {
        "colab": {
          "base_uri": "https://localhost:8080/",
          "height": 337
        },
        "id": "tZxp0cUIyjw8",
        "outputId": "e63d5e8e-8948-436d-d57c-b78de6bb545e"
      },
      "execution_count": 64,
      "outputs": [
        {
          "output_type": "stream",
          "name": "stderr",
          "text": [
            "/usr/local/lib/python3.7/dist-packages/numpy/core/_asarray.py:136: ComplexWarning: Casting complex values to real discards the imaginary part\n",
            "  return array(a, dtype, copy=False, order=order, subok=True)\n"
          ]
        },
        {
          "output_type": "execute_result",
          "data": {
            "text/plain": [
              "<matplotlib.collections.PathCollection at 0x7f0e21921350>"
            ]
          },
          "metadata": {},
          "execution_count": 64
        },
        {
          "output_type": "display_data",
          "data": {
            "image/png": "[encoded data removed]",
            "text/plain": [
              "<Figure size 432x288 with 1 Axes>"
            ]
          },
          "metadata": {
            "needs_background": "light"
          }
        }
      ]
    },
    {
      "cell_type": "markdown",
      "source": [
        "### Plotting points using histogram"
      ],
      "metadata": {
        "id": "MpMGRWdypP-9"
      }
    },
    {
      "cell_type": "code",
      "execution_count": 77,
      "metadata": {
        "id": "vjJ-iIeQ-iY9",
        "colab": {
          "base_uri": "https://localhost:8080/",
          "height": 389
        },
        "outputId": "13e1ee9a-f439-4946-e7ea-cc85e511c2c6"
      },
      "outputs": [
        {
          "output_type": "stream",
          "name": "stderr",
          "text": [
            "/usr/local/lib/python3.7/dist-packages/numpy/lib/histograms.py:851: ComplexWarning: Casting complex values to real discards the imaginary part\n",
            "  indices = f_indices.astype(np.intp)\n",
            "/usr/local/lib/python3.7/dist-packages/matplotlib/transforms.py:789: ComplexWarning: Casting complex values to real discards the imaginary part\n",
            "  points = np.array(args, dtype=float).reshape(2, 2)\n",
            "/usr/local/lib/python3.7/dist-packages/matplotlib/transforms.py:1969: ComplexWarning: Casting complex values to real discards the imaginary part\n",
            "  x, y = float(x), float(y)\n"
          ]
        },
        {
          "output_type": "display_data",
          "data": {
            "image/png": "[encoded data removed]",
            "text/plain": [
              "<Figure size 432x288 with 1 Axes>"
            ]
          },
          "metadata": {
            "needs_background": "light"
          }
        }
      ],
      "source": [
        "plt.hist(transformed_X)\n",
        "plt.show()"
      ]
    },
    {
      "cell_type": "markdown",
      "source": [
        "## Classification"
      ],
      "metadata": {
        "id": "60l7QvTZ6ygl"
      }
    },
    {
      "cell_type": "code",
      "source": [
        "from sklearn.neighbors import KNeighborsClassifier\n",
        "model = KNeighborsClassifier()\n",
        "model.fit(data, classes)"
      ],
      "metadata": {
        "colab": {
          "base_uri": "https://localhost:8080/"
        },
        "id": "AdL8Xon5iQgT",
        "outputId": "6491d60c-9887-486e-ebfd-cbabc67528fe"
      },
      "execution_count": 65,
      "outputs": [
        {
          "output_type": "execute_result",
          "data": {
            "text/plain": [
              "KNeighborsClassifier()"
            ]
          },
          "metadata": {},
          "execution_count": 65
        }
      ]
    },
    {
      "cell_type": "markdown",
      "source": [
        "## Test data generation"
      ],
      "metadata": {
        "id": "2PtvuQPH4iGY"
      }
    },
    {
      "cell_type": "code",
      "source": [
        "test_data = img2df(directory)\n",
        "test_data = test_data.T\n",
        "test_data.shape"
      ],
      "metadata": {
        "id": "p2KNpd6U8vYt"
      },
      "execution_count": null,
      "outputs": []
    },
    {
      "cell_type": "code",
      "source": [
        "emotion_list = np.array([])\n",
        "for each_img in os.listdir(directory):\n",
        "    if(emotion_extract(each_img) == 1):\n",
        "        emotion_list = np.append(emotion_list, [1])\n",
        "    else:\n",
        "        emotion_list = np.append(emotion_list, [0])\n",
        "\n",
        "test_data[\"10201\"] = emotion_list\n",
        "test_data"
      ],
      "metadata": {
        "id": "wl7xsD-u8yn6"
      },
      "execution_count": null,
      "outputs": []
    },
    {
      "cell_type": "code",
      "source": [
        "from pathlib import Path  \n",
        "filepath = Path('./unscaled_test_data.csv')  \n",
        "filepath.parent.mkdir(parents=True, exist_ok=True)  \n",
        "test_data.to_csv(filepath, index=False)"
      ],
      "metadata": {
        "id": "Rk6jRan_82Vb"
      },
      "execution_count": null,
      "outputs": []
    },
    {
      "cell_type": "markdown",
      "source": [
        "### Divide the test into X and y"
      ],
      "metadata": {
        "id": "VGwi6aLH8_gM"
      }
    },
    {
      "cell_type": "code",
      "source": [
        "dt = pd.read_csv(\"unscaled_test_data.csv\")\n",
        "X_test = dt.iloc[:,:-1].to_numpy()\n",
        "y_test = dt.iloc[:,-1].to_numpy()\n",
        "# X"
      ],
      "metadata": {
        "id": "FE8a44i655B7"
      },
      "execution_count": 66,
      "outputs": []
    },
    {
      "cell_type": "code",
      "source": [
        "y_predict = model.predict(X_test)"
      ],
      "metadata": {
        "id": "CZ3fW81Y6Fnx"
      },
      "execution_count": 67,
      "outputs": []
    },
    {
      "cell_type": "code",
      "source": [
        "from sklearn import metrics\n",
        "accuracy = metrics.accuracy_score(y_predict, y_test)\n",
        "print(\"Accuracy of test data is : \", accuracy*100, \"%\")"
      ],
      "metadata": {
        "colab": {
          "base_uri": "https://localhost:8080/"
        },
        "id": "GqkenOjr6Qv3",
        "outputId": "6ceefc4e-321b-4a94-d69a-23d2f49ea977"
      },
      "execution_count": 70,
      "outputs": [
        {
          "output_type": "stream",
          "name": "stdout",
          "text": [
            "Accuracy of test data is :  60.0 %\n"
          ]
        }
      ]
    },
    {
      "cell_type": "code",
      "source": [
        "print('*'*10,'Accuracy of Fischer Faces after LDA','*'*10,'\\n')\n",
        "for K in range(1,21):\n",
        "    neigh = KNeighborsClassifier(n_neighbors = K, weights='uniform', algorithm='auto')\n",
        "    neigh.fit(data, classes) \n",
        "    y_pred = neigh.predict(X_test)\n",
        "    print (\"Accuracy is \", metrics.accuracy_score(y_test,y_pred)*100,\"% for K-Value:\",K)"
      ],
      "metadata": {
        "colab": {
          "base_uri": "https://localhost:8080/"
        },
        "id": "BPmFZjBi4fqq",
        "outputId": "ce09ac04-1353-4ac0-8c1a-07d14e26d068"
      },
      "execution_count": 75,
      "outputs": [
        {
          "output_type": "stream",
          "name": "stdout",
          "text": [
            "********** Accuracy of Fischer Faces after LDA ********** \n",
            "\n",
            "Accuracy is  40.0 % for K-Value: 1\n",
            "Accuracy is  40.0 % for K-Value: 2\n",
            "Accuracy is  40.0 % for K-Value: 3\n",
            "Accuracy is  40.0 % for K-Value: 4\n",
            "Accuracy is  60.0 % for K-Value: 5\n",
            "Accuracy is  50.0 % for K-Value: 6\n",
            "Accuracy is  50.0 % for K-Value: 7\n",
            "Accuracy is  40.0 % for K-Value: 8\n",
            "Accuracy is  50.0 % for K-Value: 9\n",
            "Accuracy is  40.0 % for K-Value: 10\n",
            "Accuracy is  50.0 % for K-Value: 11\n",
            "Accuracy is  40.0 % for K-Value: 12\n",
            "Accuracy is  50.0 % for K-Value: 13\n",
            "Accuracy is  40.0 % for K-Value: 14\n",
            "Accuracy is  50.0 % for K-Value: 15\n",
            "Accuracy is  40.0 % for K-Value: 16\n",
            "Accuracy is  40.0 % for K-Value: 17\n",
            "Accuracy is  40.0 % for K-Value: 18\n",
            "Accuracy is  40.0 % for K-Value: 19\n",
            "Accuracy is  40.0 % for K-Value: 20\n"
          ]
        }
      ]
    },
    {
      "cell_type": "code",
      "source": [
        "print(\"Since at k = 5, accuracy is higher, best choice of choosing K is 5\")"
      ],
      "metadata": {
        "colab": {
          "base_uri": "https://localhost:8080/"
        },
        "id": "w122TJO14QJq",
        "outputId": "93da1b32-a716-4576-955c-1736d4e97a73"
      },
      "execution_count": 74,
      "outputs": [
        {
          "output_type": "stream",
          "name": "stdout",
          "text": [
            "Since at k = 5, accuracy is higher, best choice of choosing K is 5\n"
          ]
        }
      ]
    },
    {
      "cell_type": "markdown",
      "source": [
        "# Since at k = 5, accuracy is higher, best choice of choosing K is 5"
      ],
      "metadata": {
        "id": "qq7ppQZE7sBK"
      }
    }
  ],
  "metadata": {
    "colab": {
      "name": "MLSP_Assignment_P1.ipynb",
      "provenance": [],
      "collapsed_sections": [
        "Xks5IAZA_fJb",
        "H9CPrxvMbzVV",
        "vkXMZcAQ7lo_"
      ]
    },
    "kernelspec": {
      "display_name": "Python 3",
      "name": "python3"
    },
    "language_info": {
      "name": "python"
    }
  },
  "nbformat": 4,
  "nbformat_minor": 0
}